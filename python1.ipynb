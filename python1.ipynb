b = [1,2,3]
b.append(6)